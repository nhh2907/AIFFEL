{
 "cells": [
  {
   "cell_type": "code",
   "execution_count": 1,
   "id": "492d69f2-acbd-485e-abbb-d7aa6c49f4c4",
   "metadata": {},
   "outputs": [],
   "source": [
    "import tensorflow as tf\n",
    "from tensorflow import keras\n",
    "import numpy as np\n",
    "import matplotlib.pyplot as plt"
   ]
  },
  {
   "cell_type": "code",
   "execution_count": 2,
   "id": "4aeed2a9-ac52-4b8a-8e62-47fb5f32169d",
   "metadata": {},
   "outputs": [],
   "source": [
    "# Resize하기\n",
    "from PIL import Image\n",
    "import glob                     \n",
    "import os"
   ]
  },
  {
   "cell_type": "markdown",
   "id": "c7ceb91c-f347-4b2b-aa04-2ab8fd267f64",
   "metadata": {},
   "source": [
    "# STEP 1 : 이미지 사이즈 변경하기"
   ]
  },
  {
   "cell_type": "markdown",
   "id": "167fd352-24c4-4793-bc9e-81b119253abd",
   "metadata": {},
   "source": [
    "## 함수 정의 : resize와 save"
   ]
  },
  {
   "cell_type": "code",
   "execution_count": 3,
   "id": "5c1017d2-404e-4979-8a9a-3b98577a3a21",
   "metadata": {},
   "outputs": [],
   "source": [
    "def resize_images(img_path):\n",
    "    # glob 모듈의 glob 함수는 사용자가 제시한 조건에 맞는 파일 경로를 리스트 형식으로 반환\n",
    "    images = glob.glob(img_path + \"/*.jpg\")     \n",
    "    print(len(images), \"images to be resized\")\n",
    "    \n",
    "    # 파일마다 모두 28x28 사이즈로 변경 저장\n",
    "    target_size = (28, 28)\n",
    "    for img in images:\n",
    "        old_img = Image.open(img)                                                 # 이미지 object 반환\n",
    "        new_img = old_img.resize(target_size, Image.ANTIALIAS)                    # PIL.Image.ANTIALIAS\n",
    "                                                                                  # Anti-Alias : 낮은 해상도로 변환할 때 깨진 형태를 최소화해줌\n",
    "        new_img.save(img, \"JPEG\")                                                 # 변경내용 저장\n",
    "    \n",
    "    print(len(images), \"images resized\")"
   ]
  },
  {
   "cell_type": "markdown",
   "id": "89860c89-49c4-4e7b-99f1-c5f6e1bc1492",
   "metadata": {},
   "source": [
    "## Resize 하기"
   ]
  },
  {
   "cell_type": "code",
   "execution_count": 4,
   "id": "cfe2ba46-59d0-48e5-8e85-c61d639ad988",
   "metadata": {},
   "outputs": [
    {
     "name": "stdout",
     "output_type": "stream",
     "text": [
      "2482 images to be resized\n"
     ]
    },
    {
     "name": "stderr",
     "output_type": "stream",
     "text": [
      "/var/folders/ph/bzq5p9_s57d_ly96857wzn940000gn/T/ipykernel_60907/1487777163.py:10: DeprecationWarning: ANTIALIAS is deprecated and will be removed in Pillow 10 (2023-07-01). Use Resampling.LANCZOS instead.\n",
      "  new_img = old_img.resize(target_size, Image.ANTIALIAS)                    # PIL.Image.ANTIALIAS\n"
     ]
    },
    {
     "name": "stdout",
     "output_type": "stream",
     "text": [
      "2482 images resized\n",
      "rock resize completed\n",
      "\n",
      "2574 images to be resized\n",
      "2574 images resized\n",
      "scissor resize completed\n",
      "\n",
      "2796 images to be resized\n",
      "2796 images resized\n",
      "paper resize completed\n",
      "\n",
      "212 images to be resized\n",
      "212 images resized\n",
      "rock resize completed\n",
      "\n",
      "214 images to be resized\n",
      "214 images resized\n",
      "scissor resize completed\n",
      "\n",
      "246 images to be resized\n",
      "246 images resized\n",
      "paper resize completed\n",
      "\n"
     ]
    }
   ],
   "source": [
    "names = [\"rock\", \"scissor\", \"paper\"]\n",
    "\n",
    "# Train 데이터셋\n",
    "for name in names:\n",
    "    img_dir_path = os.getenv(\"HOME\") + \"/MyDeveloper/Aiffel/tensorflow/data/\" + name         # 이미지 파일 경로\n",
    "    resize_images(img_dir_path)                                                              # 함수 호출\n",
    "    print(name, \"resize completed\")\n",
    "    print()\n",
    "\n",
    "# Test 데이터셋\n",
    "for name in names:\n",
    "    img_dir_path = os.getenv(\"HOME\") + \"/MyDeveloper/Aiffel/tensorflow/data/test/\" + name         # 이미지 파일 경로\n",
    "    resize_images(img_dir_path)                                                              # 함수 호출\n",
    "    print(name, \"resize completed\")\n",
    "    print()"
   ]
  },
  {
   "cell_type": "markdown",
   "id": "c421df54-9fe9-4515-be99-93dbeb93b767",
   "metadata": {},
   "source": [
    "# STEP 2 : 이미지 Load하기"
   ]
  },
  {
   "cell_type": "markdown",
   "id": "204a1af5-3fa5-49dc-b633-f444a34f8cfd",
   "metadata": {},
   "source": [
    "## 2.1 함수 정의 : load_data()"
   ]
  },
  {
   "cell_type": "code",
   "execution_count": 5,
   "id": "06cedafb-ad7a-42e6-aa29-8bfcb3e65427",
   "metadata": {},
   "outputs": [],
   "source": [
    "def load_data(img_dir_path, number_of_data=300): # 주의 : 가위바위보 이미지 총 개수이어야 함\n",
    "    img_size = 28\n",
    "    channel_n = 3\n",
    "    names = [\"rock\", \"scissor\", \"paper\"]\n",
    "    \n",
    "    # 이미지 데이터를 담을 행렬(Matrix) 생성\n",
    "    imgs = np.zeros(number_of_data * img_size * img_size * channel_n, dtype=np.int32)                # ndarray 1차원 벡터로 생성\n",
    "    imgs = imgs.reshape(number_of_data, img_size, img_size, channel_n)                               # 이미지 shape으로 행렬 형태로 변경\n",
    "    \n",
    "    \n",
    "    # 라벨(가위 :0, 바위 : 1, 보 :2) 데이터를 담을 행렬(Matrix) 생성\n",
    "    labels = np.zeros(number_of_data, dtype=np.int32)\n",
    "    \n",
    "    \n",
    "    # 이미지 불러와서 ndarray(예시 : 28 x 28 x 3)형태로 변환하고 imgs 행렬에 할당하기\n",
    "    # 지도학습 시킬 Target 라벨이 필요함\n",
    "    # 가위 : 0, 바위 : 1, 보 : 2\n",
    "    idx = 0\n",
    "    for name in names:\n",
    "        for file_path in glob.iglob(img_dir_path + name + '/*.jpg'):\n",
    "            img = np.array(Image.open(file_path), dtype=np.int32)                                    # Image를 불러오고 그 이미지를 (28 x 28 x 3)처럼 array로 변환\n",
    "            imgs[idx, :, :, :] = img                                                                 # 데이터 영역에 이미지 행렬 복사\n",
    "\n",
    "            # 라벨 부여하기\n",
    "            # 가위 : 0, 바위 : 1, 보 : 2\n",
    "            if name == 'scissor':\n",
    "                labels[idx] = 0                                                                         \n",
    "            elif name == 'rock':\n",
    "                labels[idx] = 1\n",
    "            else:\n",
    "                labels[idx] = 2\n",
    "            \n",
    "            idx += 1\n",
    "    \n",
    "    return imgs, labels"
   ]
  },
  {
   "cell_type": "code",
   "execution_count": 6,
   "id": "87eef0bd-2da1-4758-8bb5-0d22efe2af1c",
   "metadata": {},
   "outputs": [
    {
     "data": {
      "text/plain": [
       "(28, 28, 3)"
      ]
     },
     "execution_count": 6,
     "metadata": {},
     "output_type": "execute_result"
    }
   ],
   "source": [
    "# 위 함수 이해를 위한 참고로 찍어봄\n",
    "np.array(Image.open(\"/Users/hyunhonoh/MyDeveloper/Aiffel/tensorflow/data/paper/paper_1577.jpg\"), dtype=np.int32).shape"
   ]
  },
  {
   "cell_type": "markdown",
   "id": "68d22a70-3f02-47f9-8013-72ca0fe4cb30",
   "metadata": {},
   "source": [
    "## 2.2 Train, Test 데이터셋 파일 개수 세기"
   ]
  },
  {
   "cell_type": "code",
   "execution_count": 7,
   "id": "c0855f24-dbff-4ea1-9f6e-ddf789d2435b",
   "metadata": {},
   "outputs": [
    {
     "name": "stdout",
     "output_type": "stream",
     "text": [
      "7852\n",
      "672\n"
     ]
    }
   ],
   "source": [
    "names = [\"rock\", \"scissor\", \"paper\"]\n",
    "\n",
    "# Train 데이터셋\n",
    "count_train = 0\n",
    "for name in names:\n",
    "    img_path = os.getenv(\"HOME\") + \"/MyDeveloper/Aiffel/tensorflow/data/\" + name               # 이미지 파일 경로\n",
    "    images = glob.glob(img_path + \"/*.jpg\")\n",
    "    count_train += len(images)\n",
    "    \n",
    "print(count_train)\n",
    "\n",
    "# Test 데이터셋\n",
    "count_test = 0\n",
    "for name in names:\n",
    "    img_path = os.getenv(\"HOME\") + \"/MyDeveloper/Aiffel/tensorflow/data/test/\" + name         # 이미지 파일 경로\n",
    "    images = glob.glob(img_path + \"/*.jpg\")\n",
    "    count_test += len(images)\n",
    "    \n",
    "print(count_test)"
   ]
  },
  {
   "cell_type": "markdown",
   "id": "43488a28-6949-4f41-87b9-f2d7110a44d9",
   "metadata": {},
   "source": [
    "## 2.3 이미지 불러오기 - 함수 호출"
   ]
  },
  {
   "cell_type": "code",
   "execution_count": 8,
   "id": "5988ff50-873d-4891-b4df-51ec52597ba1",
   "metadata": {},
   "outputs": [
    {
     "name": "stdout",
     "output_type": "stream",
     "text": [
      "Train 데이터셋 불러오기 완료\n",
      "Test 데이터셋 불러오기 완료\n"
     ]
    }
   ],
   "source": [
    "# Train 데이터셋\n",
    "img_dir_path = os.getenv(\"HOME\") + \"/MyDeveloper/Aiffel/tensorflow/data/\"\n",
    "(x_train, y_train) = load_data(img_dir_path, number_of_data=count_train)                      # 내가 정의한 함수 호출\n",
    "print(\"Train 데이터셋 불러오기 완료\")\n",
    "\n",
    "# Test 데이터셋\n",
    "img_dir_path = os.getenv(\"HOME\") + \"/MyDeveloper/Aiffel/tensorflow/data/test/\"\n",
    "(x_test, y_test) = load_data(img_dir_path, number_of_data=count_test)                         # 내가 정의한 함수 호출\n",
    "print(\"Test 데이터셋 불러오기 완료\")"
   ]
  },
  {
   "cell_type": "code",
   "execution_count": 9,
   "id": "565933fa-2e91-4ba8-86f6-9f8d2cc9ac36",
   "metadata": {},
   "outputs": [],
   "source": [
    "from sklearn.model_selection import train_test_split\n",
    "\n",
    "# 훈련용과 검증용으로 분류\n",
    "x_train, x_validation, y_train, y_validation = train_test_split(x_train, y_train, test_size=0.2, random_state=2022, shuffle=True)"
   ]
  },
  {
   "cell_type": "code",
   "execution_count": 10,
   "id": "f45588d9-03b3-4689-93a3-b754feea3bb6",
   "metadata": {},
   "outputs": [
    {
     "name": "stdout",
     "output_type": "stream",
     "text": [
      "x_train shape: (6281, 28, 28, 3)\n",
      "y_train shape: (6281,)\n",
      "\n",
      "x_test shape: (672, 28, 28, 3)\n",
      "y_test shape: (672,)\n"
     ]
    }
   ],
   "source": [
    "# 확인용\n",
    "print(\"x_train shape:\", x_train.shape)\n",
    "print(\"y_train shape:\", y_train.shape)\n",
    "print()\n",
    "print(\"x_test shape:\", x_test.shape)\n",
    "print(\"y_test shape:\", y_test.shape)"
   ]
  },
  {
   "cell_type": "markdown",
   "id": "cd05d9b7-15ea-4d2c-8e13-f5c18b64da92",
   "metadata": {},
   "source": [
    "### 2.4 x와 y 데이터 확인해보기"
   ]
  },
  {
   "cell_type": "code",
   "execution_count": 11,
   "id": "f63fef2f-515f-4f34-9542-628efea30308",
   "metadata": {},
   "outputs": [
    {
     "data": {
      "image/png": "[encoded data removed]",
      "text/plain": [
       "<Figure size 640x480 with 1 Axes>"
      ]
     },
     "metadata": {},
     "output_type": "display_data"
    }
   ],
   "source": [
    "plt.imshow(x_train[6000], cmap=plt.cm.binary)\n",
    "plt.show()"
   ]
  },
  {
   "cell_type": "code",
   "execution_count": 12,
   "id": "4a246794-0188-40e1-9c29-4b276f758c55",
   "metadata": {},
   "outputs": [
    {
     "name": "stdout",
     "output_type": "stream",
     "text": [
      "라벨: 2\n"
     ]
    }
   ],
   "source": [
    "print(\"라벨:\", y_train[6000])"
   ]
  },
  {
   "cell_type": "code",
   "execution_count": 13,
   "id": "97a9bdcf-2920-4a01-8bfa-6588f2d10377",
   "metadata": {},
   "outputs": [
    {
     "data": {
      "image/png": "[encoded data removed]",
      "text/plain": [
       "<Figure size 640x480 with 1 Axes>"
      ]
     },
     "metadata": {},
     "output_type": "display_data"
    }
   ],
   "source": [
    "plt.imshow(x_test[600], cmap=plt.cm.binary)\n",
    "plt.show()"
   ]
  },
  {
   "cell_type": "code",
   "execution_count": 14,
   "id": "825cb687-1752-4c83-8a2a-84681f53de47",
   "metadata": {},
   "outputs": [
    {
     "name": "stdout",
     "output_type": "stream",
     "text": [
      "라벨: 2\n"
     ]
    }
   ],
   "source": [
    "print(\"라벨:\", y_test[600])"
   ]
  },
  {
   "cell_type": "markdown",
   "id": "3d2824ab-2423-4ba8-9606-4136b219a506",
   "metadata": {},
   "source": [
    "## 2.5 정규화"
   ]
  },
  {
   "cell_type": "code",
   "execution_count": 15,
   "id": "e261f83d-2262-4b2d-acdd-d1455ba28934",
   "metadata": {},
   "outputs": [],
   "source": [
    "x_train_norm = (x_train - np.min(x_train)) / 255.0         # 입력은 0~1 사이의 값으로 정규화\n",
    "x_test_norm = (x_test - np.min(x_test)) / 255.0            # 입력은 0~1 사이의 값으로 정규화"
   ]
  },
  {
   "cell_type": "markdown",
   "id": "7013f68f-4e6c-41f3-9d1d-a1d1b781ecfe",
   "metadata": {},
   "source": [
    "# STEP 3 : DNN 설계"
   ]
  },
  {
   "cell_type": "code",
   "execution_count": 16,
   "id": "623d770b-73cc-463e-9481-34a67b4caaa1",
   "metadata": {},
   "outputs": [
    {
     "name": "stdout",
     "output_type": "stream",
     "text": [
      "Metal device set to: Apple M1\n",
      "Model에 추가된 Layer 개수:  9\n",
      "Model: \"sequential\"\n",
      "_________________________________________________________________\n",
      " Layer (type)                Output Shape              Param #   \n",
      "=================================================================\n",
      " conv2d (Conv2D)             (None, 26, 26, 16)        448       \n",
      "                                                                 \n",
      " max_pooling2d (MaxPooling2D  (None, 13, 13, 16)       0         \n",
      " )                                                               \n",
      "                                                                 \n",
      " conv2d_1 (Conv2D)           (None, 11, 11, 32)        4640      \n",
      "                                                                 \n",
      " max_pooling2d_1 (MaxPooling  (None, 5, 5, 32)         0         \n",
      " 2D)                                                             \n",
      "                                                                 \n",
      " conv2d_2 (Conv2D)           (None, 3, 3, 64)          18496     \n",
      "                                                                 \n",
      " max_pooling2d_2 (MaxPooling  (None, 1, 1, 64)         0         \n",
      " 2D)                                                             \n",
      "                                                                 \n",
      " flatten (Flatten)           (None, 64)                0         \n",
      "                                                                 \n",
      " dense (Dense)               (None, 32)                2080      \n",
      "                                                                 \n",
      " dense_1 (Dense)             (None, 3)                 99        \n",
      "                                                                 \n",
      "=================================================================\n",
      "Total params: 25,763\n",
      "Trainable params: 25,763\n",
      "Non-trainable params: 0\n",
      "_________________________________________________________________\n"
     ]
    },
    {
     "name": "stderr",
     "output_type": "stream",
     "text": [
      "2022-10-01 22:27:49.316963: I tensorflow/core/common_runtime/pluggable_device/pluggable_device_factory.cc:306] Could not identify NUMA node of platform GPU ID 0, defaulting to 0. Your kernel may not have been built with NUMA support.\n",
      "2022-10-01 22:27:49.317557: I tensorflow/core/common_runtime/pluggable_device/pluggable_device_factory.cc:272] Created TensorFlow device (/job:localhost/replica:0/task:0/device:GPU:0 with 0 MB memory) -> physical PluggableDevice (device: 0, name: METAL, pci bus id: <undefined>)\n"
     ]
    }
   ],
   "source": [
    "model=keras.models.Sequential()                                                      # Sequential 모델 객체 생성\n",
    "\n",
    "model.add(keras.layers.Conv2D(16, (3,3), activation='relu', input_shape=(28,28,3)))  # color 이미지이므로, 입력을 3채널\n",
    "                                                                                     # CNN\n",
    "                                                                                     # 16은 filter 개수\n",
    "                                                                                     # (3, 3)은 filter/kernel 사이즈\n",
    "                                                                                     # input_shape: 입력이미지의 형태\n",
    "model.add(keras.layers.MaxPool2D(2,2))                                               # Maxpooling\n",
    "                                                                                     # (2, 2)은 pool사이즈  \n",
    "model.add(keras.layers.Conv2D(32, (3,3), activation='relu'))                         # CNN, 32은 filter 개수\n",
    "                                                                                     # 32은 filter 개수\n",
    "                                                                                     # (3, 3)은 filter/kernel 사이즈\n",
    "model.add(keras.layers.MaxPooling2D((2,2)))                                          # Maxpooling\n",
    "                                                                                     # (2, 2)은 pool사이즈  \n",
    "model.add(keras.layers.Conv2D(64, (3,3), activation='relu'))                         # CNN, 64은 filter 개수\n",
    "                                                                                     # 32은 filter 개수\n",
    "                                                                                     # (3, 3)은 filter/kernel 사이즈\n",
    "model.add(keras.layers.MaxPooling2D((2,2)))                                          # Maxpooling\n",
    "                                                                                     # (2, 2)은 pool사이즈 \n",
    "model.add(keras.layers.Flatten())                                                    # Flatten\n",
    "model.add(keras.layers.Dense(32, activation='relu'))                                 # regular densely-connected NN layer\n",
    "                                                                                     # 32는 units: 해당 은닉층에서 활동하는 뉴런의 수\n",
    "model.add(keras.layers.Dense(3, activation='softmax'))                               # Target이 가위바위보 3개이므로 units는 3\n",
    "                                                                                     # 활성화함수 : softmax\n",
    "                                                                                     # units: 해당 은닉층에서 활동하는 뉴런의 수\n",
    "                                                                                     # 최종 출력이 3개이므로 units를 3으로 설정함\n",
    "print('Model에 추가된 Layer 개수: ', len(model.layers))\n",
    "\n",
    "model.summary()"
   ]
  },
  {
   "cell_type": "markdown",
   "id": "9da8b3b2-389f-4a3e-8483-30c0da0cceb5",
   "metadata": {},
   "source": [
    "# STEP 4 : 모델 학습"
   ]
  },
  {
   "cell_type": "code",
   "execution_count": 17,
   "id": "5282ae52-9bef-4d28-af88-fa0f8e75cc25",
   "metadata": {},
   "outputs": [
    {
     "name": "stderr",
     "output_type": "stream",
     "text": [
      "2022-10-01 22:27:49.523530: W tensorflow/core/platform/profile_utils/cpu_utils.cc:128] Failed to get CPU frequency: 0 Hz\n"
     ]
    },
    {
     "name": "stdout",
     "output_type": "stream",
     "text": [
      "Epoch 1/10\n"
     ]
    },
    {
     "name": "stderr",
     "output_type": "stream",
     "text": [
      "2022-10-01 22:27:49.717678: I tensorflow/core/grappler/optimizers/custom_graph_optimizer_registry.cc:114] Plugin optimizer for device_type GPU is enabled.\n"
     ]
    },
    {
     "name": "stdout",
     "output_type": "stream",
     "text": [
      "197/197 [==============================] - ETA: 0s - loss: 1.1335 - accuracy: 0.6333"
     ]
    },
    {
     "name": "stderr",
     "output_type": "stream",
     "text": [
      "2022-10-01 22:27:52.495633: I tensorflow/core/grappler/optimizers/custom_graph_optimizer_registry.cc:114] Plugin optimizer for device_type GPU is enabled.\n"
     ]
    },
    {
     "name": "stdout",
     "output_type": "stream",
     "text": [
      "197/197 [==============================] - 3s 15ms/step - loss: 1.1335 - accuracy: 0.6333 - val_loss: 0.6575 - val_accuracy: 0.7206\n",
      "Epoch 2/10\n",
      "197/197 [==============================] - 3s 13ms/step - loss: 0.4751 - accuracy: 0.8152 - val_loss: 0.3797 - val_accuracy: 0.8517\n",
      "Epoch 3/10\n",
      "197/197 [==============================] - 2s 10ms/step - loss: 0.2946 - accuracy: 0.8895 - val_loss: 0.3355 - val_accuracy: 0.8727\n",
      "Epoch 4/10\n",
      "197/197 [==============================] - 2s 10ms/step - loss: 0.1963 - accuracy: 0.9280 - val_loss: 0.2785 - val_accuracy: 0.8924\n",
      "Epoch 5/10\n",
      "197/197 [==============================] - 2s 9ms/step - loss: 0.1432 - accuracy: 0.9489 - val_loss: 0.1920 - val_accuracy: 0.9313\n",
      "Epoch 6/10\n",
      "197/197 [==============================] - 2s 8ms/step - loss: 0.1031 - accuracy: 0.9624 - val_loss: 0.1674 - val_accuracy: 0.9427\n",
      "Epoch 7/10\n",
      "197/197 [==============================] - 2s 8ms/step - loss: 0.0916 - accuracy: 0.9662 - val_loss: 0.1577 - val_accuracy: 0.9453\n",
      "Epoch 8/10\n",
      "197/197 [==============================] - 2s 8ms/step - loss: 0.0715 - accuracy: 0.9726 - val_loss: 0.1233 - val_accuracy: 0.9535\n",
      "Epoch 9/10\n",
      "197/197 [==============================] - 2s 8ms/step - loss: 0.0748 - accuracy: 0.9734 - val_loss: 0.2293 - val_accuracy: 0.9306\n",
      "Epoch 10/10\n",
      "197/197 [==============================] - 2s 9ms/step - loss: 0.1102 - accuracy: 0.9631 - val_loss: 0.1262 - val_accuracy: 0.9523\n"
     ]
    }
   ],
   "source": [
    "# 모델 configure하기\n",
    "model.compile(optimizer='adam',\n",
    "             loss='sparse_categorical_crossentropy',\n",
    "             metrics=['accuracy'])\n",
    "\n",
    "# 모델 학습\n",
    "history = model.fit(x_train, y_train, epochs=10, validation_data=(x_validation, y_validation))"
   ]
  },
  {
   "cell_type": "markdown",
   "id": "43addeea-182f-466a-83a0-1de38a573708",
   "metadata": {},
   "source": [
    "# STEP 5 : 성능 평가"
   ]
  },
  {
   "cell_type": "code",
   "execution_count": 31,
   "id": "941b43c9-04c2-4ae1-ac2c-c760d7704c4f",
   "metadata": {},
   "outputs": [
    {
     "name": "stdout",
     "output_type": "stream",
     "text": [
      "21/21 - 0s - loss: 2.2671 - accuracy: 0.6443 - 223ms/epoch - 11ms/step\n",
      "test_loss: 2.267122983932495\n",
      "test_accuracy: 0.644345223903656\n"
     ]
    }
   ],
   "source": [
    "# 모델 예측 및 성능 평가\n",
    "test_loss, test_accuracy = model.evaluate(x_test, y_test, verbose=2)\n",
    "\n",
    "print(\"test_loss:\", test_loss)\n",
    "print(\"test_accuracy:\", test_accuracy)    "
   ]
  },
  {
   "cell_type": "markdown",
   "id": "2cd31df3-5a3c-4d69-9122-90a1efc4dbd6",
   "metadata": {},
   "source": [
    "# STEP 6 : 잘못 예측한 이미지 데이터 확인해보기\n",
    "\n",
    "- model.evaluate() 대신 model.predict()를 사용하면 model이 입력 테스트 이미지에 대한 실제로 추론한 확률분포를 출력\n",
    "- model은 가위:0, 바위:1, 보:2 중 어느 것일지에 대한 확률값을 출력하는 함수\n",
    "- 이 함수의 출력값, 즉 확률값이 가장 높은 숫자가 바로 model이 추론한 숫자가 됨"
   ]
  },
  {
   "cell_type": "code",
   "execution_count": 33,
   "id": "225098bb-24a1-4be9-b3b3-623ad971f437",
   "metadata": {},
   "outputs": [
    {
     "name": "stdout",
     "output_type": "stream",
     "text": [
      "21/21 [==============================] - 0s 3ms/step\n",
      "\n",
      "model.predict() 결과: [4.1750056e-04 3.3503196e-01 6.6455054e-01]\n",
      "model 예측한 확률이 높은 결과: 2\n",
      "실제 데이터의 라벨: 1\n"
     ]
    }
   ],
   "source": [
    "predicted_result = model.predict(x_test)                 # model이 추론한 확률값\n",
    "                                                         # 한 벡터의 원소는 10개이고 각각이 해당숫자에 대한 모델이 예측한 확률값\n",
    "predicted_labels = np.argmax(predicted_result, axis=1)   # 한 이미지 데이터에서 가장 높은 확률에 해당하는 인덱스를 뽑아냄\n",
    "                                                         # 여기서 인덱스는 곧 target인 digit을 의미\n",
    "\n",
    "print()\n",
    "\n",
    "# 임의 인덱스 넣어보기\n",
    "idx=120\n",
    "print(\"model.predict() 결과:\", predicted_result[idx])\n",
    "print(\"model 예측한 확률이 높은 결과:\", predicted_labels[idx])\n",
    "print(\"실제 데이터의 라벨:\", y_test[idx])"
   ]
  },
  {
   "cell_type": "markdown",
   "id": "a4e53fac-f563-4c02-a237-b5cc3dbd6d2d",
   "metadata": {},
   "source": [
    "## 6.1 테스트 데이터 이미지가 맞았는지 확인 "
   ]
  },
  {
   "cell_type": "code",
   "execution_count": 20,
   "id": "3d790eb8-50d9-42fe-ad7b-c70e975244ef",
   "metadata": {},
   "outputs": [
    {
     "name": "stdout",
     "output_type": "stream",
     "text": [
      "예측확률분포:  [6.2707089e-02 2.4468756e-07 9.3729264e-01]\n",
      "예측결과:  2\n",
      "정답 라벨:  0\n"
     ]
    },
    {
     "data": {
      "image/png": "[encoded data removed]",
      "text/plain": [
       "<Figure size 640x480 with 1 Axes>"
      ]
     },
     "metadata": {},
     "output_type": "display_data"
    },
    {
     "name": "stdout",
     "output_type": "stream",
     "text": [
      "\n",
      "예측확률분포:  [5.3143449e-02 1.5445464e-08 9.4685650e-01]\n",
      "예측결과:  2\n",
      "정답 라벨:  0\n"
     ]
    },
    {
     "data": {
      "image/png": "[encoded data removed]",
      "text/plain": [
       "<Figure size 640x480 with 1 Axes>"
      ]
     },
     "metadata": {},
     "output_type": "display_data"
    },
    {
     "name": "stdout",
     "output_type": "stream",
     "text": [
      "\n",
      "예측확률분포:  [1.8291416e-09 5.3508505e-13 1.0000000e+00]\n",
      "예측결과:  2\n",
      "정답 라벨:  0\n"
     ]
    },
    {
     "data": {
      "image/png": "[encoded data removed]",
      "text/plain": [
       "<Figure size 640x480 with 1 Axes>"
      ]
     },
     "metadata": {},
     "output_type": "display_data"
    },
    {
     "name": "stdout",
     "output_type": "stream",
     "text": [
      "\n",
      "예측확률분포:  [3.1561380e-05 2.6006603e-07 9.9996817e-01]\n",
      "예측결과:  2\n",
      "정답 라벨:  0\n"
     ]
    },
    {
     "data": {
      "image/png": "[encoded data removed]",
      "text/plain": [
       "<Figure size 640x480 with 1 Axes>"
      ]
     },
     "metadata": {},
     "output_type": "display_data"
    },
    {
     "name": "stdout",
     "output_type": "stream",
     "text": [
      "\n",
      "예측확률분포:  [0.00726892 0.17177665 0.8209544 ]\n",
      "예측결과:  2\n",
      "정답 라벨:  0\n"
     ]
    },
    {
     "data": {
      "image/png": "[encoded data removed]",
      "text/plain": [
       "<Figure size 640x480 with 1 Axes>"
      ]
     },
     "metadata": {},
     "output_type": "display_data"
    },
    {
     "name": "stdout",
     "output_type": "stream",
     "text": [
      "\n"
     ]
    }
   ],
   "source": [
    "import random\n",
    "\n",
    "n = len(predicted_labels)\n",
    "wrong_predict_list=[]\n",
    "\n",
    "# 예측값과 정답지와 다른 경우만 추출\n",
    "for i in range(n):\n",
    "    # i번째 test_labels과 y_test가 다른 경우만 모아 봄\n",
    "    if predicted_labels[i] != y_test[i]:\n",
    "        wrong_predict_list.append(i)\n",
    "\n",
    "# wrong_predict_list에서 랜덤하게 5개만 뽑아봄\n",
    "samples = random.choices(population=wrong_predict_list, k=5)       \n",
    "for j in samples:\n",
    "    print(\"예측확률분포: \", predicted_result[j])\n",
    "    print(\"예측결과: \", predicted_labels[j])\n",
    "    print(\"정답 라벨: \", y_test[j])\n",
    "    \n",
    "    plt.imshow(x_test[j], cmap=plt.cm.binary)\n",
    "    plt.show()\n",
    "    print()"
   ]
  },
  {
   "cell_type": "markdown",
   "id": "b0e4e322-2528-4cf4-85cb-c22da32c773c",
   "metadata": {},
   "source": [
    "> 배경이 빨간색이거나 형광등이 있는 경우는 이미지 식별을 제대로 못하고 있다 "
   ]
  },
  {
   "cell_type": "markdown",
   "id": "87275f07-48ae-457b-926b-85a58b71bdf7",
   "metadata": {},
   "source": [
    "# STEP 7 : 시각화"
   ]
  },
  {
   "cell_type": "code",
   "execution_count": 21,
   "id": "4231e4c0-7695-441d-a533-8aba493345e6",
   "metadata": {},
   "outputs": [
    {
     "data": {
      "text/plain": [
       "dict_keys(['loss', 'accuracy', 'val_loss', 'val_accuracy'])"
      ]
     },
     "execution_count": 21,
     "metadata": {},
     "output_type": "execute_result"
    }
   ],
   "source": [
    "# 확인용\n",
    "history.history.keys()"
   ]
  },
  {
   "cell_type": "code",
   "execution_count": 30,
   "id": "87ca803b-18d4-46ff-b296-9f81e11a22ce",
   "metadata": {},
   "outputs": [
    {
     "data": {
      "text/plain": [
       "{'loss': [1.133480191230774,\n",
       "  0.4751002788543701,\n",
       "  0.29461678862571716,\n",
       "  0.19630037248134613,\n",
       "  0.1431673914194107,\n",
       "  0.10312024503946304,\n",
       "  0.0915924459695816,\n",
       "  0.07153670489788055,\n",
       "  0.07476967573165894,\n",
       "  0.11017138510942459],\n",
       " 'accuracy': [0.6333386301994324,\n",
       "  0.8151568174362183,\n",
       "  0.889508068561554,\n",
       "  0.9280369877815247,\n",
       "  0.9488935470581055,\n",
       "  0.9624264240264893,\n",
       "  0.9662474393844604,\n",
       "  0.9726158380508423,\n",
       "  0.9734119176864624,\n",
       "  0.9630632400512695],\n",
       " 'val_loss': [0.6574944257736206,\n",
       "  0.37968236207962036,\n",
       "  0.3354916572570801,\n",
       "  0.27852508425712585,\n",
       "  0.19197340309619904,\n",
       "  0.16741371154785156,\n",
       "  0.15765176713466644,\n",
       "  0.12331556528806686,\n",
       "  0.22925439476966858,\n",
       "  0.1261623352766037],\n",
       " 'val_accuracy': [0.7205601930618286,\n",
       "  0.8516868352890015,\n",
       "  0.8726925849914551,\n",
       "  0.8924252390861511,\n",
       "  0.9312540292739868,\n",
       "  0.9427117109298706,\n",
       "  0.945257842540741,\n",
       "  0.9535328149795532,\n",
       "  0.9306175112724304,\n",
       "  0.9522597789764404]}"
      ]
     },
     "execution_count": 30,
     "metadata": {},
     "output_type": "execute_result"
    }
   ],
   "source": [
    "# 확인용\n",
    "history.history"
   ]
  },
  {
   "cell_type": "code",
   "execution_count": 28,
   "id": "bbcfb213-0f8a-446e-a6bd-269a404a900e",
   "metadata": {},
   "outputs": [
    {
     "data": {
      "image/png": "[encoded data removed]",
      "text/plain": [
       "<Figure size 640x480 with 1 Axes>"
      ]
     },
     "metadata": {},
     "output_type": "display_data"
    }
   ],
   "source": [
    "# Train 데이터셋의 학습 결과\n",
    "loss_train = history.history['loss']\n",
    "epoch_train = np.arange(len(loss_train)) + 1\n",
    "\n",
    "loss_test = history.history['val_loss']\n",
    "epoch_test = np.arange(len(loss_test)) + 1\n",
    "\n",
    "plt.plot(epoch_train, loss_train, c='b', marker='.', label=\"Train Set\")\n",
    "plt.plot(epoch_test, loss_test, c='r', marker='.', label=\"Validation_Train Set\")\n",
    "\n",
    "plt.legend(loc='upper right')\n",
    "plt.grid()\n",
    "plt.xlabel('Epoch')\n",
    "plt.ylabel('Loss')\n",
    "plt.show()"
   ]
  },
  {
   "cell_type": "markdown",
   "id": "1f8b8b05-7d41-464a-8adf-9f705739f9b1",
   "metadata": {},
   "source": [
    "> train set의 8 또는 9 epoch에서 손실함수가 증가하는 경향을 보이고 있다. 따라서 epoch 8이 가장 좋은 횟수임을 추정할 수 있다"
   ]
  },
  {
   "cell_type": "code",
   "execution_count": 34,
   "id": "2596bcb0-7953-46a7-b6bc-b135ac926e05",
   "metadata": {},
   "outputs": [
    {
     "data": {
      "image/png": "[encoded data removed]",
      "text/plain": [
       "<Figure size 640x480 with 1 Axes>"
      ]
     },
     "metadata": {},
     "output_type": "display_data"
    }
   ],
   "source": [
    "# Test 데이터셋의 학습 결과\n",
    "train_accuracy = history.history['accuracy']\n",
    "epoch_train = np.arange(len(train_accuracy)) + 1\n",
    "\n",
    "test_accuracy = history.history['val_accuracy']\n",
    "epoch_test = np.arange(len(test_accuracy)) + 1\n",
    "\n",
    "plt.plot(epoch_train, train_accuracy, c='b', marker='.', label=\"Train Set\")\n",
    "plt.plot(epoch_test, test_accuracy, c='r', marker='.', label=\"Validation_Test Set\")\n",
    "\n",
    "plt.legend(loc='upper left')\n",
    "plt.grid()\n",
    "plt.xlabel('Epoch')\n",
    "plt.ylabel('Accuracy')\n",
    "plt.show()\n"
   ]
  },
  {
   "cell_type": "markdown",
   "id": "342c7f60-55f7-4f7f-9da7-dfd6df098745",
   "metadata": {},
   "source": [
    "> Train 데이터 셋의 epoch 8 또는 9에서 정확도가 감소하는 경향을 보이고 있다. 따라서 epoch 8까지 학습이 최적의 해임을 추정할 수 있다"
   ]
  },
  {
   "cell_type": "markdown",
   "id": "b0997c79-3eca-4e8b-a093-2213077bd95e",
   "metadata": {},
   "source": [
    "# STEP 8 : 회고\n",
    "\n",
    "1. 이번 프로젝트에서 어려웠던 점  \n",
    "    - 이미지 관련 함수와 라이브러리 사용법을 이해하는데 어려웠습니다. 특히 왜 배열이 1차원인지 2차원인지 3차원인지 구분하는 것이 어려웠으며 언제 reshape을 해야하는지 이해하기 어려웠습니다. 노드 따라하면 할 수 있었지만 혼자서 해보려고하니 배열 shape을 언제 어떻게 바꿔야할지 힘들었습니다. \n",
    "    - 테스트 데이터셋을 일부러 배경을 다양하게 하여 어렵게 만들었습니다. 그 결과 예측 정확도가 학습 정확도에 비해 30퍼센트나 떨어지는 것을 알게 되었고 예측 정확도를 높이기 위해서는 이미지의 배경화면을 mask를 통해 살색을 따오고 넣어주면 예측 정확도를 높일 수 있다고 생각했습니다\n",
    "2. 프로젝트를 진행하면서 알아낸 점 혹은 아직 모호한 점  \n",
    "    - 개념은 이해하고 있으나 코드로 구현하는데 있어서 머리가 멍한것이 문제인거 같습니다\n",
    "3. 루브릭 평가 지표를 맞추기 위해 시도한 것들\n",
    "    - 훈련 데이터셋을 sklearn으로 validation 데이터셋으로 구분하고 모델에 학습하였습니다. 실제 테스트하기 전에 미리 예측정확도 추정하는 것인데 그 결과를 그래프로 나타내니 좀 더 이해하는데 도움이 되었습니다\n",
    "    - 예측 정확도를 높이기 위해서 다양한 시도를 해봤습니다. 그 중에 epoch를 증가시켰더니 epoch 8에서 손실함수는 증가하려고 했고 검증 데이터 평가의 정확도가 감소하는 경향이 보였습니다. 결국 epoch를 증가하는 것은 과적합의 가능성을 보여줬습니다. \n",
    "    - 이미지의 정규화를 통해서 데이터의 오버피팅 가능성을 낮췄습니다\n",
    "    - convolution layer 필터 64개 짜리 추가하고 maxpooling 레이어 한 개 더 추가하여 정확도 47퍼센트에서 약 65퍼센트까지 올렸습니다. 특징을 추출하는 convolution 레이어는 필터가 많으면 좋은 결과를 얻었습니다\n",
    "4. 만약에 루브릭 평가 관련 지표를 달성 하지 못했을 때, 이유에 관한 추정  \n",
    "    - 달성함\n",
    "5. 자기 다짐   \n",
    "    - 전체 개념은 이해하기 쉬웠으나 코드 해석하는데 시간을 많이 소비했습니다. 다른 사람보다 코드 읽는 시간이 점점 늘어나는 것을 보니 코드 해석하는데 시간을 줄일수 있도록 방법을 찾아봐야겠습니다.\n"
   ]
  }
 ],
 "metadata": {
  "kernelspec": {
   "display_name": "Python 3 (ipykernel)",
   "language": "python",
   "name": "python3"
  },
  "language_info": {
   "codemirror_mode": {
    "name": "ipython",
    "version": 3
   },
   "file_extension": ".py",
   "mimetype": "text/x-python",
   "name": "python",
   "nbconvert_exporter": "python",
   "pygments_lexer": "ipython3",
   "version": "3.10.6"
  }
 },
 "nbformat": 4,
 "nbformat_minor": 5
}
